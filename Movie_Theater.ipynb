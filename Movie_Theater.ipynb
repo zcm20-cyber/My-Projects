{
  "nbformat": 4,
  "nbformat_minor": 0,
  "metadata": {
    "colab": {
      "provenance": [],
      "authorship_tag": "ABX9TyNqmZwWowOknveDyhvOuZkP",
      "include_colab_link": true
    },
    "kernelspec": {
      "name": "python3",
      "display_name": "Python 3"
    },
    "language_info": {
      "name": "python"
    }
  },
  "cells": [
    {
      "cell_type": "markdown",
      "metadata": {
        "id": "view-in-github",
        "colab_type": "text"
      },
      "source": [
        "<a href=\"https://colab.research.google.com/github/zcm20-cyber/My-Projects/blob/main/Movie_Theater.ipynb\" target=\"_parent\"><img src=\"https://colab.research.google.com/assets/colab-badge.svg\" alt=\"Open In Colab\"/></a>"
      ]
    },
    {
      "cell_type": "code",
      "source": [
        "print(\"Ad\\t\\tProfit\")\n",
        "for Ad in range(0, 201, 25):\n",
        "  Profit = 10 * (20 + 2 * Ad ** 0.5) - 200 - Ad\n",
        "  print(f\"{Ad}\\t\\t{round(Profit, 1)}\")"
      ],
      "metadata": {
        "colab": {
          "base_uri": "https://localhost:8080/"
        },
        "id": "S5E8VG8Yu4Kf",
        "outputId": "e5d4264d-d44a-4d70-f361-08845daa40db"
      },
      "execution_count": null,
      "outputs": [
        {
          "output_type": "stream",
          "name": "stdout",
          "text": [
            "Ad\t\tProfit\n",
            "0\t\t0.0\n",
            "25\t\t75.0\n",
            "50\t\t91.4\n",
            "75\t\t98.2\n",
            "100\t\t100.0\n",
            "125\t\t98.6\n",
            "150\t\t94.9\n",
            "175\t\t89.6\n",
            "200\t\t82.8\n"
          ]
        }
      ]
    }
  ]
}