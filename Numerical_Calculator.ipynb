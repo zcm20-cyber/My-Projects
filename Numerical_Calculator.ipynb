{
  "nbformat": 4,
  "nbformat_minor": 0,
  "metadata": {
    "colab": {
      "provenance": [],
      "authorship_tag": "ABX9TyMjsrOJhJausWtiQA9s8zM6",
      "include_colab_link": true
    },
    "kernelspec": {
      "name": "python3",
      "display_name": "Python 3"
    },
    "language_info": {
      "name": "python"
    }
  },
  "cells": [
    {
      "cell_type": "markdown",
      "metadata": {
        "id": "view-in-github",
        "colab_type": "text"
      },
      "source": [
        "<a href=\"https://colab.research.google.com/github/zcm20-cyber/My-Projects/blob/main/Numerical_Calculator.ipynb\" target=\"_parent\"><img src=\"https://colab.research.google.com/assets/colab-badge.svg\" alt=\"Open In Colab\"/></a>"
      ]
    },
    {
      "cell_type": "code",
      "source": [
        "num1 = float(input(\"First number: \"))\n",
        "num2 = float(input(\"Second number: \"))\n",
        "op = input(\"Choose numerical operator (+, -, *, /, //, **, %)\")\n",
        "\n",
        "if op == '+':\n",
        "  print(f\"{num1} + {num2} = {num1 + num2}\")\n",
        "elif op == '-':\n",
        "  print(f\"{num1} - {num2} = {num1 - num2}\")\n",
        "elif op == '*':\n",
        "  print(f\"{num1} * {num2} = {num1 * num2}\")\n",
        "elif op == '/':\n",
        "  print(f\"{num1} / {num2} = {num1 / num2}\")\n",
        "elif op == '//':\n",
        "  print(f\"{num1} // {num2} = {num1 // num2}\")\n",
        "elif op == '**':\n",
        "  print(f\"{num1} ** {num2} = {num1 ** num2}\")\n",
        "elif op == '%':\n",
        "  print(f\"{num1} mod {num2} = {num1 % num2}\")\n",
        "else:\n",
        "  print('Invalid operator')"
      ],
      "metadata": {
        "colab": {
          "base_uri": "https://localhost:8080/"
        },
        "id": "Wz-o-7OBuWuW",
        "outputId": "56139343-e5c9-4626-a8e9-795ef32c273d"
      },
      "execution_count": null,
      "outputs": [
        {
          "output_type": "stream",
          "name": "stdout",
          "text": [
            "First number: 1\n",
            "Second number: 2\n",
            "Choose numerical operator (+, -, *, /, //, **, %)+\n",
            "1.0 + 2.0 = 3.0\n"
          ]
        }
      ]
    }
  ]
}