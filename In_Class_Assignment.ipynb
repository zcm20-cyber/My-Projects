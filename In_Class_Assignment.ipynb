{
  "nbformat": 4,
  "nbformat_minor": 0,
  "metadata": {
    "colab": {
      "provenance": []
    },
    "kernelspec": {
      "name": "python3",
      "display_name": "Python 3"
    },
    "language_info": {
      "name": "python"
    }
  },
  "cells": [
    {
      "cell_type": "markdown",
      "source": [
        "SUBMIT TO GITHUB"
      ],
      "metadata": {
        "id": "FOYM71EMsO8n"
      }
    },
    {
      "cell_type": "code",
      "source": [
        "sales = float(input('Enter sales ($): '))\n",
        "print(f\"Sales: ${sales}\")\n",
        "rate = float(input(\"Enter tax rate (%): \"))\n",
        "\n",
        "# Cost of Goods Sold\n",
        "cog = 0.4\n",
        "cog_sold = sales * cog\n",
        "print(f\"Cog: ${cog_sold}\")\n",
        "\n",
        "# Gross Profit\n",
        "grossProfit = sales - cog_sold\n",
        "print(f\"Gross profit: ${grossProfit}\")\n",
        "\n",
        "# Taxes\n",
        "taxes = (rate/100) * grossProfit\n",
        "print(f\"Taxes: ${taxes}\")\n",
        "\n",
        "# Net Income\n",
        "netProfit = grossProfit - taxes\n",
        "print(f\"Netprofit: ${netProfit}\")\n",
        "\n",
        "print(f\"Gross Profit: ${grossProfit}\")\n",
        "print(f\"taxes: ${taxes}\")\n",
        "print(f\"netIncome: ${netIncome}\")"
      ],
      "metadata": {
        "colab": {
          "base_uri": "https://localhost:8080/"
        },
        "id": "jQHkriDvdQ-z",
        "outputId": "a60495f4-5224-4acd-c747-acc1b235102d"
      },
      "execution_count": null,
      "outputs": [
        {
          "output_type": "stream",
          "name": "stdout",
          "text": [
            "Enter sales ($): 12000\n",
            "Sales: $12000.0\n",
            "Enter tax rate (%): 30\n",
            "Cog: $4800.0\n",
            "Gross profit: $7200.0\n",
            "Taxes: $2160.0\n",
            "Netprofit: $5040.0\n",
            "Gross Profit: $7200.0\n",
            "taxes: $2160.0\n",
            "netIncome: $5040.0\n"
          ]
        }
      ]
    },
    {
      "cell_type": "code",
      "source": [
        "# Inputs: demand, reorder cost and holding cost\n",
        "demand = input(\"Enter demand (units/year): \")\n",
        "demand = int(demand)\n",
        "\n",
        "reorder = input(\"Enter reorder cost ($/unit: \")\n",
        "reorder = float(reorder)\n",
        "\n",
        "holding = input(\"Enter holding cost ($/unit/year): \")\n",
        "holding = float(holding)\n",
        "\n",
        "# Process: Calculate EOQ\n",
        "eoq = (2 * demand * reorder / holding) ** 0.5\n",
        "\n",
        "# Output: Display EOQ value\n",
        "print(f\"EOQ = {eoq} units\")"
      ],
      "metadata": {
        "id": "8TK0Oh5LhjNs",
        "colab": {
          "base_uri": "https://localhost:8080/"
        },
        "outputId": "571db8dd-d15b-44a6-9f2b-caeddca53fc1"
      },
      "execution_count": null,
      "outputs": [
        {
          "output_type": "stream",
          "name": "stdout",
          "text": [
            "Enter demand (units/year): 12\n",
            "Enter reorder cost ($/unit: 10\n",
            "Enter holding cost ($/unit/year): 50\n",
            "EOQ = 2.1908902300206643 units\n"
          ]
        }
      ]
    },
    {
      "cell_type": "markdown",
      "source": [
        "Numerical calculator (if-elif-else statements)\n",
        "* Design a simple numerical calculator in Python. The user needs to provide three inputs: two numbers and the mathematical operator of their choice. The program should print the output on the screen"
      ],
      "metadata": {
        "id": "sOyXhKQuqhC9"
      }
    },
    {
      "cell_type": "code",
      "source": [
        "num1 = float(input(\"First number: \"))\n",
        "num2 = float(input(\"Second number: \"))\n",
        "op = input(\"Choose numerical operator (+, -, *, /, //, **, %)\")\n",
        "\n",
        "if op == '+':\n",
        "  print(f\"{num1} + {num2} = {num1 + num2}\")\n",
        "elif op == '-':\n",
        "  print(f\"{num1} - {num2} = {num1 - num2}\")\n",
        "elif op == '*':\n",
        "  print(f\"{num1} * {num2} = {num1 * num2}\")\n",
        "elif op == '/':\n",
        "  print(f\"{num1} / {num2} = {num1 / num2}\")\n",
        "elif op == '//':\n",
        "  print(f\"{num1} // {num2} = {num1 // num2}\")\n",
        "elif op == '**':\n",
        "  print(f\"{num1} ** {num2} = {num1 ** num2}\")\n",
        "elif op == '%':\n",
        "  print(f\"{num1} mod {num2} = {num1 % num2}\")\n",
        "else:\n",
        "  print('Invalid operator')"
      ],
      "metadata": {
        "colab": {
          "base_uri": "https://localhost:8080/"
        },
        "id": "Wz-o-7OBuWuW",
        "outputId": "56139343-e5c9-4626-a8e9-795ef32c273d"
      },
      "execution_count": null,
      "outputs": [
        {
          "output_type": "stream",
          "name": "stdout",
          "text": [
            "First number: 1\n",
            "Second number: 2\n",
            "Choose numerical operator (+, -, *, /, //, **, %)+\n",
            "1.0 + 2.0 = 3.0\n"
          ]
        }
      ]
    },
    {
      "cell_type": "markdown",
      "source": [
        "Parking garage (for/while loop)\n",
        "* a parking garage charges $5 + $2.50 for each hour parked\n",
        "* Write a program that prints the number of hours parked and the corresponding fee side by side, from 1 to 8 hours\n",
        "* Bonus: The minimum fee is $10  and the maxiumum fee  is $20"
      ],
      "metadata": {
        "id": "EuY43wirbtEs"
      }
    },
    {
      "cell_type": "code",
      "source": [
        "print(\"# of hours\\tFee ($)\")\n",
        "print(\"_______________________\")\n",
        "for hours in range(1, 9):\n",
        "  fee = 5 + hours * 2.5\n",
        "  if fee < 10:\n",
        "    fee = 10.0\n",
        "    print(f\"{hours}\\t\\t{fee}\")\n",
        "  elif fee > 20:\n",
        "    fee = 20.0\n",
        "  print(f\"{hours}\\t\\t{fee}\")\n"
      ],
      "metadata": {
        "colab": {
          "base_uri": "https://localhost:8080/"
        },
        "id": "kWNrJ1RjbwAQ",
        "outputId": "f5e17988-5240-4353-9b05-00ae9ee8a1e8"
      },
      "execution_count": null,
      "outputs": [
        {
          "output_type": "stream",
          "name": "stdout",
          "text": [
            "# of hours\tFee ($)\n",
            "_______________________\n",
            "1\t\t10.0\n",
            "1\t\t10.0\n",
            "2\t\t10.0\n",
            "3\t\t12.5\n",
            "4\t\t15.0\n",
            "5\t\t17.5\n",
            "6\t\t20.0\n",
            "7\t\t20.0\n",
            "8\t\t20.0\n"
          ]
        }
      ]
    },
    {
      "cell_type": "markdown",
      "source": [
        "Movie theater (for/while loop)\n",
        "* A movie theater maanger is deciding how much to spend on advertising for an upcoming movie. Each ticket is $10. Without any advertising, 20 people are forecasted to attend. Additional people may attend based on advertising spending, estimated to be: Additional attendees = 2 x advertisingDollars\n",
        "In addition to advertising costs, there are fixed costs to run the theater of\n",
        "\n",
        "* Write a program to generate a table for different advertising amounts and profits"
      ],
      "metadata": {
        "id": "QGe94lcOtW6B"
      }
    },
    {
      "cell_type": "code",
      "source": [
        "print(\"Ad\\t\\tProfit\")\n",
        "for Ad in range(0, 201, 25):\n",
        "  Profit = 10 * (20 + 2 * Ad ** 0.5) - 200 - Ad\n",
        "  print(f\"{Ad}\\t\\t{round(Profit, 1)}\")"
      ],
      "metadata": {
        "colab": {
          "base_uri": "https://localhost:8080/"
        },
        "id": "S5E8VG8Yu4Kf",
        "outputId": "e5d4264d-d44a-4d70-f361-08845daa40db"
      },
      "execution_count": null,
      "outputs": [
        {
          "output_type": "stream",
          "name": "stdout",
          "text": [
            "Ad\t\tProfit\n",
            "0\t\t0.0\n",
            "25\t\t75.0\n",
            "50\t\t91.4\n",
            "75\t\t98.2\n",
            "100\t\t100.0\n",
            "125\t\t98.6\n",
            "150\t\t94.9\n",
            "175\t\t89.6\n",
            "200\t\t82.8\n"
          ]
        }
      ]
    },
    {
      "cell_type": "markdown",
      "source": [
        "Append items to list iteratively (while loop)\n",
        "* starting with empty list, design program in Python that populates list by repeatedly asking user for numerical inputs. Process stops when user gives 0. Finally, list should be displayed in descending order."
      ],
      "metadata": {
        "id": "Fg21fycOyPqy"
      }
    },
    {
      "cell_type": "code",
      "source": [
        "numbers = []\n",
        "num = float(input('Give a number: '))\n",
        "\n",
        "while num != 0:\n",
        "  numbers.append(num)\n",
        "  num = float(input('Give another number: '))\n",
        "\n",
        "numbers.sort(reverse=True)\n",
        "print(numbers)\n"
      ],
      "metadata": {
        "colab": {
          "base_uri": "https://localhost:8080/"
        },
        "id": "Jq8XANRZyUN2",
        "outputId": "d139363b-89ee-413e-8299-183cc7f3bd9f"
      },
      "execution_count": null,
      "outputs": [
        {
          "output_type": "stream",
          "name": "stdout",
          "text": [
            "Give a number: 12\n",
            "Give another number: 14\n",
            "Give another number: 19\n",
            "Give another number: 2\n",
            "Give another number: 9\n",
            "Give another number: 0\n",
            "[19.0, 14.0, 12.0, 9.0, 2.0]\n"
          ]
        }
      ]
    },
    {
      "cell_type": "code",
      "source": [
        "max(numbers)\n"
      ],
      "metadata": {
        "colab": {
          "base_uri": "https://localhost:8080/"
        },
        "id": "_wIwsSDn18Dy",
        "outputId": "21dc0b91-81c4-49b0-f7bb-866f636eba2d"
      },
      "execution_count": null,
      "outputs": [
        {
          "output_type": "execute_result",
          "data": {
            "text/plain": [
              "19.0"
            ]
          },
          "metadata": {},
          "execution_count": 25
        }
      ]
    },
    {
      "cell_type": "code",
      "source": [
        "min(numbers)"
      ],
      "metadata": {
        "colab": {
          "base_uri": "https://localhost:8080/"
        },
        "id": "-kQ_mJFA4KCS",
        "outputId": "2b0e43a2-d393-4ff1-9d1b-1435484f9184"
      },
      "execution_count": null,
      "outputs": [
        {
          "output_type": "execute_result",
          "data": {
            "text/plain": [
              "2.0"
            ]
          },
          "metadata": {},
          "execution_count": 26
        }
      ]
    },
    {
      "cell_type": "code",
      "source": [
        "sum(numbers)"
      ],
      "metadata": {
        "colab": {
          "base_uri": "https://localhost:8080/"
        },
        "id": "lV_NAH4v4M78",
        "outputId": "8deb5f02-7bee-4ff3-930e-f1878a4d976d"
      },
      "execution_count": null,
      "outputs": [
        {
          "output_type": "execute_result",
          "data": {
            "text/plain": [
              "56.0"
            ]
          },
          "metadata": {},
          "execution_count": 27
        }
      ]
    },
    {
      "cell_type": "code",
      "source": [
        "sum(numbers) / len(numbers)"
      ],
      "metadata": {
        "id": "gNgKOBcC4aIh",
        "outputId": "bd5bc0ba-84d9-4745-cff8-bff99faf2084",
        "colab": {
          "base_uri": "https://localhost:8080/"
        }
      },
      "execution_count": null,
      "outputs": [
        {
          "output_type": "execute_result",
          "data": {
            "text/plain": [
              "11.2"
            ]
          },
          "metadata": {},
          "execution_count": 28
        }
      ]
    },
    {
      "cell_type": "markdown",
      "source": [
        "Rock-Paper-Scissors (while loops)\n",
        "* The classic hand game. Write a program that plays the game against the computer for as long as the user wants\n",
        "* Start by allowing the user to choose whether they want to play using the appriopriate input\n",
        "* As long as the user chooses 'yes', the game continues\n",
        "* Add realism by allowing the computer to randomly choose its action. You can do this using the random library:\n",
        "  * import random\n",
        "  * computer = random.choice(['rock', 'paper', 'scissors'])"
      ],
      "metadata": {
        "id": "jYZUtA3knVM0"
      }
    },
    {
      "cell_type": "code",
      "source": [
        "# Co Pilot\n",
        "\n",
        "import random\n",
        "\n",
        "print(\"Welcome to Rock-Paper-Scissors!\")\n",
        "\n",
        "# Start the game loop\n",
        "play = input(\"Do you want to play? (yes/no): \").lower()\n",
        "\n",
        "while play == 'yes':\n",
        "    user_choice = input(\"Choose rock, paper, or scissors: \").lower()\n",
        "    computer_choice = random.choice(['rock', 'paper', 'scissors'])\n",
        "\n",
        "    print(f\"Computer chose: {computer_choice}\")\n",
        "\n",
        "    # Determine the winner\n",
        "    if user_choice == computer_choice:\n",
        "        print(\"It's a tie!\")\n",
        "    elif (user_choice == 'rock' and computer_choice == 'scissors') or \\\n",
        "         (user_choice == 'paper' and computer_choice == 'rock') or \\\n",
        "         (user_choice == 'scissors' and computer_choice == 'paper'):\n",
        "        print(\"You win!\")\n",
        "    elif user_choice in ['rock', 'paper', 'scissors']:\n",
        "        print(\"Computer wins!\")\n",
        "    else:\n",
        "        print(\"Invalid choice. Please choose rock, paper, or scissors.\")\n",
        "\n",
        "    # Ask if the user wants to play again\n",
        "    play = input(\"Do you want to play again? (yes/no): \").lower()\n",
        "\n",
        "print(\"Thanks for playing!\")"
      ],
      "metadata": {
        "colab": {
          "base_uri": "https://localhost:8080/"
        },
        "id": "io8foOn1n2j-",
        "outputId": "644052ce-edfc-45f0-b5ad-e517da4975a6"
      },
      "execution_count": null,
      "outputs": [
        {
          "output_type": "stream",
          "name": "stdout",
          "text": [
            "Welcome to Rock-Paper-Scissors!\n",
            "Do you want to play? (yes/no): yes\n",
            "Choose rock, paper, or scissors: rock\n",
            "Computer chose: paper\n",
            "Computer wins!\n",
            "Do you want to play again? (yes/no): yes\n",
            "Choose rock, paper, or scissors: scissors\n",
            "Computer chose: paper\n",
            "You win!\n",
            "Do you want to play again? (yes/no): yes\n",
            "Choose rock, paper, or scissors: paper\n",
            "Computer chose: rock\n",
            "You win!\n",
            "Do you want to play again? (yes/no): no\n",
            "Thanks for playing!\n"
          ]
        }
      ]
    },
    {
      "cell_type": "code",
      "source": [
        "# ChatGPT\n",
        "\n",
        "import random\n",
        "\n",
        "print(\"Welcome to Rock-Paper-Scissors!\")\n",
        "\n",
        "# Ask the user if they want to play\n",
        "play = input(\"Do you want to play? (yes/no): \").lower()\n",
        "\n",
        "while play == \"yes\":\n",
        "    # Get user choice\n",
        "    user = input(\"Choose rock, paper, or scissors: \").lower()\n",
        "\n",
        "    # Computer randomly chooses\n",
        "    computer = random.choice(['rock', 'paper', 'scissors'])\n",
        "    print(f\"Computer chose: {computer}\")\n",
        "\n",
        "    # Determine winner\n",
        "    if user == computer:\n",
        "        print(\"It's a tie!\")\n",
        "    elif (user == \"rock\" and computer == \"scissors\") or \\\n",
        "         (user == \"paper\" and computer == \"rock\") or \\\n",
        "         (user == \"scissors\" and computer == \"paper\"):\n",
        "        print(\"You win!\")\n",
        "    elif user in [\"rock\", \"paper\", \"scissors\"]:\n",
        "        print(\"Computer wins!\")\n",
        "    else:\n",
        "        print(\"Invalid choice, please choose rock, paper, or scissors.\")\n",
        "\n",
        "    # Ask if they want to play again\n",
        "    play = input(\"Do you want to play again? (yes/no): \").lower()\n",
        "\n",
        "print(\"Thanks for playing!\")\n"
      ],
      "metadata": {
        "colab": {
          "base_uri": "https://localhost:8080/"
        },
        "id": "qn1h1msEoe8l",
        "outputId": "f0e97b02-1c4b-413b-a717-2d09d23f1c2b"
      },
      "execution_count": null,
      "outputs": [
        {
          "output_type": "stream",
          "name": "stdout",
          "text": [
            "Welcome to Rock-Paper-Scissors!\n",
            "Do you want to play? (yes/no): yes\n",
            "Choose rock, paper, or scissors: rock\n",
            "Computer chose: paper\n",
            "Computer wins!\n",
            "Do you want to play again? (yes/no): yes\n",
            "Choose rock, paper, or scissors: scissors\n",
            "Computer chose: scissors\n",
            "It's a tie!\n",
            "Do you want to play again? (yes/no): no\n",
            "Thanks for playing!\n"
          ]
        }
      ]
    },
    {
      "cell_type": "code",
      "source": [
        "# Professor\n",
        "import random\n",
        "\n",
        "\n",
        "play = input('Do you want to play?').strip().lower()\n",
        "while play == 'yes':\n",
        "  computer = random.choice(['rock', 'paper', 'scissors'])\n",
        "  user = input(\"User choice (rock, paper, scissors): \")\n",
        "  # Rock, Paper, Scissors here ...\n",
        "\n",
        "  if user == computer:\n",
        "    print('Draw')\n",
        "  elif (\n",
        "      (user == 'rock' and computer == 'scissors') or\n",
        "      (user == 'scissors' and computer == 'paper') or\n",
        "      (user == 'paper' and computer == 'rock')\n",
        "  ):\n",
        "    print('You win!')\n",
        "else:\n",
        "  print('Computer wins')\n",
        "\n",
        "  play = input('Do you want to play another game? ').strip().lower()"
      ],
      "metadata": {
        "colab": {
          "base_uri": "https://localhost:8080/",
          "height": 477
        },
        "id": "X0MRvNZnpIYZ",
        "outputId": "91cf1b28-d022-4a59-b3d7-3316a585f967"
      },
      "execution_count": null,
      "outputs": [
        {
          "output_type": "stream",
          "name": "stdout",
          "text": [
            "Do you want to play?yes\n",
            "User choice (rock, paper, scissors): rock\n",
            "You win!\n",
            "User choice (rock, paper, scissors): paper\n",
            "User choice (rock, paper, scissors): paper\n",
            "User choice (rock, paper, scissors): scissors\n",
            "You win!\n"
          ]
        },
        {
          "output_type": "error",
          "ename": "KeyboardInterrupt",
          "evalue": "Interrupted by user",
          "traceback": [
            "\u001b[0;31m---------------------------------------------------------------------------\u001b[0m",
            "\u001b[0;31mKeyboardInterrupt\u001b[0m                         Traceback (most recent call last)",
            "\u001b[0;32m/tmp/ipython-input-499666090.py\u001b[0m in \u001b[0;36m<cell line: 0>\u001b[0;34m()\u001b[0m\n\u001b[1;32m      6\u001b[0m \u001b[0;32mwhile\u001b[0m \u001b[0mplay\u001b[0m \u001b[0;34m==\u001b[0m \u001b[0;34m'yes'\u001b[0m\u001b[0;34m:\u001b[0m\u001b[0;34m\u001b[0m\u001b[0;34m\u001b[0m\u001b[0m\n\u001b[1;32m      7\u001b[0m   \u001b[0mcomputer\u001b[0m \u001b[0;34m=\u001b[0m \u001b[0mrandom\u001b[0m\u001b[0;34m.\u001b[0m\u001b[0mchoice\u001b[0m\u001b[0;34m(\u001b[0m\u001b[0;34m[\u001b[0m\u001b[0;34m'rock'\u001b[0m\u001b[0;34m,\u001b[0m \u001b[0;34m'paper'\u001b[0m\u001b[0;34m,\u001b[0m \u001b[0;34m'scissors'\u001b[0m\u001b[0;34m]\u001b[0m\u001b[0;34m)\u001b[0m\u001b[0;34m\u001b[0m\u001b[0;34m\u001b[0m\u001b[0m\n\u001b[0;32m----> 8\u001b[0;31m   \u001b[0muser\u001b[0m \u001b[0;34m=\u001b[0m \u001b[0minput\u001b[0m\u001b[0;34m(\u001b[0m\u001b[0;34m\"User choice (rock, paper, scissors): \"\u001b[0m\u001b[0;34m)\u001b[0m\u001b[0;34m\u001b[0m\u001b[0;34m\u001b[0m\u001b[0m\n\u001b[0m\u001b[1;32m      9\u001b[0m   \u001b[0;31m# Rock, Paper, Scissors here ...\u001b[0m\u001b[0;34m\u001b[0m\u001b[0;34m\u001b[0m\u001b[0m\n\u001b[1;32m     10\u001b[0m \u001b[0;34m\u001b[0m\u001b[0m\n",
            "\u001b[0;32m/usr/local/lib/python3.12/dist-packages/ipykernel/kernelbase.py\u001b[0m in \u001b[0;36mraw_input\u001b[0;34m(self, prompt)\u001b[0m\n\u001b[1;32m   1175\u001b[0m                 \u001b[0;34m\"raw_input was called, but this frontend does not support input requests.\"\u001b[0m\u001b[0;34m\u001b[0m\u001b[0;34m\u001b[0m\u001b[0m\n\u001b[1;32m   1176\u001b[0m             )\n\u001b[0;32m-> 1177\u001b[0;31m         return self._input_request(\n\u001b[0m\u001b[1;32m   1178\u001b[0m             \u001b[0mstr\u001b[0m\u001b[0;34m(\u001b[0m\u001b[0mprompt\u001b[0m\u001b[0;34m)\u001b[0m\u001b[0;34m,\u001b[0m\u001b[0;34m\u001b[0m\u001b[0;34m\u001b[0m\u001b[0m\n\u001b[1;32m   1179\u001b[0m             \u001b[0mself\u001b[0m\u001b[0;34m.\u001b[0m\u001b[0m_parent_ident\u001b[0m\u001b[0;34m[\u001b[0m\u001b[0;34m\"shell\"\u001b[0m\u001b[0;34m]\u001b[0m\u001b[0;34m,\u001b[0m\u001b[0;34m\u001b[0m\u001b[0;34m\u001b[0m\u001b[0m\n",
            "\u001b[0;32m/usr/local/lib/python3.12/dist-packages/ipykernel/kernelbase.py\u001b[0m in \u001b[0;36m_input_request\u001b[0;34m(self, prompt, ident, parent, password)\u001b[0m\n\u001b[1;32m   1217\u001b[0m             \u001b[0;32mexcept\u001b[0m \u001b[0mKeyboardInterrupt\u001b[0m\u001b[0;34m:\u001b[0m\u001b[0;34m\u001b[0m\u001b[0;34m\u001b[0m\u001b[0m\n\u001b[1;32m   1218\u001b[0m                 \u001b[0;31m# re-raise KeyboardInterrupt, to truncate traceback\u001b[0m\u001b[0;34m\u001b[0m\u001b[0;34m\u001b[0m\u001b[0m\n\u001b[0;32m-> 1219\u001b[0;31m                 \u001b[0;32mraise\u001b[0m \u001b[0mKeyboardInterrupt\u001b[0m\u001b[0;34m(\u001b[0m\u001b[0;34m\"Interrupted by user\"\u001b[0m\u001b[0;34m)\u001b[0m \u001b[0;32mfrom\u001b[0m \u001b[0;32mNone\u001b[0m\u001b[0;34m\u001b[0m\u001b[0;34m\u001b[0m\u001b[0m\n\u001b[0m\u001b[1;32m   1220\u001b[0m             \u001b[0;32mexcept\u001b[0m \u001b[0mException\u001b[0m\u001b[0;34m:\u001b[0m\u001b[0;34m\u001b[0m\u001b[0;34m\u001b[0m\u001b[0m\n\u001b[1;32m   1221\u001b[0m                 \u001b[0mself\u001b[0m\u001b[0;34m.\u001b[0m\u001b[0mlog\u001b[0m\u001b[0;34m.\u001b[0m\u001b[0mwarning\u001b[0m\u001b[0;34m(\u001b[0m\u001b[0;34m\"Invalid Message:\"\u001b[0m\u001b[0;34m,\u001b[0m \u001b[0mexc_info\u001b[0m\u001b[0;34m=\u001b[0m\u001b[0;32mTrue\u001b[0m\u001b[0;34m)\u001b[0m\u001b[0;34m\u001b[0m\u001b[0;34m\u001b[0m\u001b[0m\n",
            "\u001b[0;31mKeyboardInterrupt\u001b[0m: Interrupted by user"
          ]
        }
      ]
    },
    {
      "cell_type": "code",
      "source": [
        "# Professor\n",
        " while True:\n",
        "  play = input('Do you want to play? ').strip().lower()\n",
        "  if play == 'no': #or play != 'yes'\n",
        "    break\n",
        "\n",
        "  # Rock, Paper, Scissors here ..."
      ],
      "metadata": {
        "id": "fXHtA_RApmd-"
      },
      "execution_count": null,
      "outputs": []
    }
  ]
}