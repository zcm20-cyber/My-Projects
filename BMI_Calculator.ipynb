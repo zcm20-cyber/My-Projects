{
  "nbformat": 4,
  "nbformat_minor": 0,
  "metadata": {
    "colab": {
      "provenance": [],
      "authorship_tag": "ABX9TyNS+3WMQfIaqpGQl7nFhY7G",
      "include_colab_link": true
    },
    "kernelspec": {
      "name": "python3",
      "display_name": "Python 3"
    },
    "language_info": {
      "name": "python"
    }
  },
  "cells": [
    {
      "cell_type": "markdown",
      "metadata": {
        "id": "view-in-github",
        "colab_type": "text"
      },
      "source": [
        "<a href=\"https://colab.research.google.com/github/zcm20-cyber/BTE320-In-Class-Assignments-/blob/main/BMI_Calculator.ipynb\" target=\"_parent\"><img src=\"https://colab.research.google.com/assets/colab-badge.svg\" alt=\"Open In Colab\"/></a>"
      ]
    },
    {
      "cell_type": "code",
      "execution_count": 2,
      "metadata": {
        "colab": {
          "base_uri": "https://localhost:8080/"
        },
        "id": "1RXpktOzPyv8",
        "outputId": "27122b8e-dc40-4bd5-ca52-6480005b4a13"
      },
      "outputs": [
        {
          "output_type": "stream",
          "name": "stdout",
          "text": [
            "Weight (kg): 55.3\n",
            "Height (m): 1.65\n",
            "Your BMI is: 20.31\n",
            "Category: Normal\n"
          ]
        }
      ],
      "source": [
        "# BMI Calculator\n",
        "\n",
        "weight = float(input(\"Weight (kg): \"))\n",
        "height = float(input(\"Height (m): \"))\n",
        "\n",
        "bmi = weight / (height ** 2)\n",
        "\n",
        "print(\"Your BMI is:\", round(bmi, 2))\n",
        "\n",
        "if bmi < 18.5:\n",
        "    print(\"Category: Underweight\")\n",
        "elif bmi < 25:\n",
        "    print(\"Category: Normal\")\n",
        "elif bmi < 30:\n",
        "    print(\"Category: Overweight\")\n",
        "else:\n",
        "    print(\"Category: Obese\")\n"
      ]
    }
  ]
}