{
  "nbformat": 4,
  "nbformat_minor": 0,
  "metadata": {
    "colab": {
      "provenance": [],
      "authorship_tag": "ABX9TyOYrau88h/obCayL35Iahzi",
      "include_colab_link": true
    },
    "kernelspec": {
      "name": "python3",
      "display_name": "Python 3"
    },
    "language_info": {
      "name": "python"
    }
  },
  "cells": [
    {
      "cell_type": "markdown",
      "metadata": {
        "id": "view-in-github",
        "colab_type": "text"
      },
      "source": [
        "<a href=\"https://colab.research.google.com/github/zcm20-cyber/My-Projects/blob/main/Simple_income_statement_calculation.ipynb\" target=\"_parent\"><img src=\"https://colab.research.google.com/assets/colab-badge.svg\" alt=\"Open In Colab\"/></a>"
      ]
    },
    {
      "cell_type": "code",
      "source": [
        "# Inputs: demand, reorder cost and holding cost\n",
        "demand = input(\"Enter demand (units/year): \")\n",
        "demand = int(demand)\n",
        "\n",
        "reorder = input(\"Enter reorder cost ($/unit: \")\n",
        "reorder = float(reorder)\n",
        "\n",
        "holding = input(\"Enter holding cost ($/unit/year): \")\n",
        "holding = float(holding)\n",
        "\n",
        "# Process: Calculate EOQ\n",
        "eoq = (2 * demand * reorder / holding) ** 0.5\n",
        "\n",
        "# Output: Display EOQ value\n",
        "print(f\"EOQ = {eoq} units\")"
      ],
      "metadata": {
        "id": "8TK0Oh5LhjNs",
        "colab": {
          "base_uri": "https://localhost:8080/"
        },
        "outputId": "571db8dd-d15b-44a6-9f2b-caeddca53fc1"
      },
      "execution_count": null,
      "outputs": [
        {
          "output_type": "stream",
          "name": "stdout",
          "text": [
            "Enter demand (units/year): 12\n",
            "Enter reorder cost ($/unit: 10\n",
            "Enter holding cost ($/unit/year): 50\n",
            "EOQ = 2.1908902300206643 units\n"
          ]
        }
      ]
    }
  ]
}